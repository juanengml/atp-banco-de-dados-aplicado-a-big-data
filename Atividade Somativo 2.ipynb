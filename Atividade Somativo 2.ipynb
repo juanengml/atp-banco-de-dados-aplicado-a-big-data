{
 "cells": [
  {
   "cell_type": "markdown",
   "id": "0ad9ffe5-63c6-457b-bef2-c031c5dd1ff6",
   "metadata": {},
   "source": [
    "# PUCPR - PONTIFÍCIA UNIVERSIDADE CATÓLICA DO PARANÁ\n",
    "### CURSO: BIG DATA E INTELIGÊNCIA ANALÍTICA\n",
    "### MATÉRIA: BANCO DE DADOS APLICADO À BIG DATA\n",
    " \n",
    " PROFESSOR: WELLINGTON RODRIGO MONTEIRO\n",
    " \n",
    " ALUNO: JUAN MANOEL MARINHO NASCIMENTO  E GUSTAVO DA SILVA ROSSI\n",
    "\n",
    "-  Somativo 2\n",
    "\n",
    "### Elabore as seguintes etapas:\n",
    "\n",
    "### 1. Mapear cada arquivo como uma tabela dentro do Apache Spark SQL, importando cada um deles.\n",
    "### 2. Ajustar os tipos de dado correspondentes entre as colunas dos arquivos e das tabelas."
   ]
  },
  {
   "cell_type": "code",
   "execution_count": 1,
   "id": "35f626d7-17be-45b6-884b-f49464e8aeb5",
   "metadata": {},
   "outputs": [],
   "source": [
    "import os \n",
    "os.environ['PYSPARK_PYTHON'] = '/usr/bin/python3.7'\n",
    "os.environ['PYSPARK_DRIVER_PYTHON'] = '/usr/bin/python3.7'"
   ]
  },
  {
   "cell_type": "code",
   "execution_count": 19,
   "id": "59889caa-6714-4f15-bac7-5357e0f04f74",
   "metadata": {},
   "outputs": [],
   "source": [
    "from pyspark.sql import SparkSession\n",
    "spark = SparkSession.builder.appName(\"Banco de dados Aplicado a Big Data\").config(\"spark.some.config.option\",\"some-value\").getOrCreate()"
   ]
  },
  {
   "cell_type": "code",
   "execution_count": 20,
   "id": "331f5631-be60-4f6c-88a6-dcf1f9c85d78",
   "metadata": {},
   "outputs": [],
   "source": [
    "from pyspark import SparkContext\n",
    "sc = SparkContext"
   ]
  },
  {
   "cell_type": "code",
   "execution_count": 31,
   "id": "86743cd3-0ddb-4e86-83b4-c8b47a15213f",
   "metadata": {},
   "outputs": [],
   "source": [
    "# load data usando csv e separador \n",
    "\n",
    "tbl_endereco = spark.read.option(\"header\",True).option(\"sep\",\";\").csv(\"/home/jovyan/base/address.csv\")\n",
    "tbl_city = spark.read.option(\"header\",True).option(\"sep\",\";\").csv(\"/home/jovyan/base/city.csv\")\n",
    "tbl_customer = spark.read.option(\"header\",True).option(\"sep\",\";\").csv(\"/home/jovyan/base/customer.csv\")\n",
    "tbl_film = spark.read.option(\"header\",True).option(\"sep\",\";\").csv(\"/home/jovyan/base/film.csv\")\n",
    "tbl_language = spark.read.option(\"header\",True).option(\"sep\",\";\").csv(\"/home/jovyan/base/language.csv\")\n",
    "\n",
    "# croamdp tabelas usando as views do SparkSQL\n",
    "tbl_endereco.createOrReplaceTempView(\"tbl_endereco\")\n",
    "tbl_city.createOrReplaceTempView(\"tbl_city\")\n",
    "tbl_customer.createOrReplaceTempView(\"tbl_customer\")\n",
    "tbl_film.createOrReplaceTempView(\"tbl_film\")\n",
    "tbl_language.createOrReplaceTempView(\"tbl_language\")\n"
   ]
  },
  {
   "cell_type": "code",
   "execution_count": 36,
   "id": "a3978c52-1e99-4688-ba2d-580f530a4a05",
   "metadata": {},
   "outputs": [
    {
     "name": "stdout",
     "output_type": "stream",
     "text": [
      "+--------+\n",
      "|    name|\n",
      "+--------+\n",
      "| English|\n",
      "| Italian|\n",
      "|Japanese|\n",
      "|Mandarin|\n",
      "|  French|\n",
      "|  German|\n",
      "+--------+\n",
      "\n"
     ]
    }
   ],
   "source": [
    "spark.sql(\"\"\"select tbl_language.name from tbl_language\"\"\").show()"
   ]
  },
  {
   "cell_type": "markdown",
   "id": "25d77f5e-d0a3-4e4c-8b0e-1f98bdfeeeb8",
   "metadata": {},
   "source": [
    "## 3. Elaborar uma consulta para responder à seguinte pergunta:\n",
    "\n",
    "#### Quantos filmes existem em cada língua/idioma?\n"
   ]
  },
  {
   "cell_type": "code",
   "execution_count": 40,
   "id": "85dd1a84-8bc3-46f2-9bea-48cc8bb82737",
   "metadata": {},
   "outputs": [
    {
     "name": "stdout",
     "output_type": "stream",
     "text": [
      "+-----------+-------+------------------+\n",
      "|language_id|   name|filmesEmCadaIdioma|\n",
      "+-----------+-------+------------------+\n",
      "|          1|English|              1000|\n",
      "+-----------+-------+------------------+\n",
      "\n"
     ]
    }
   ],
   "source": [
    "spark.sql(\"\"\"\n",
    "\n",
    "select tbl_language.language_id, tbl_language.name, count(*) as filmesEmCadaIdioma\n",
    "from tbl_language, tbl_film\n",
    "where tbl_language.language_id = tbl_film.language_id\n",
    "group by tbl_language.language_id, tbl_language.name\n",
    "order by filmesEmCadaIdioma asc\n",
    "limit 1\n",
    "\n",
    "\"\"\").show()"
   ]
  },
  {
   "cell_type": "markdown",
   "id": "11e97a0b-ee56-4474-81b8-7deaf59a3b40",
   "metadata": {},
   "source": [
    "### 4. Elaborar uma consulta para responder à seguinte pergunta:\n",
    "\n",
    "### Quantos clientes moram na mesma cidade?\n"
   ]
  },
  {
   "cell_type": "code",
   "execution_count": null,
   "id": "b504d1b6-3b31-4b2f-8a52-637405961464",
   "metadata": {},
   "outputs": [],
   "source": []
  },
  {
   "cell_type": "code",
   "execution_count": 49,
   "id": "ec69eef0-19dc-43f6-99a8-1fe6997ddf9d",
   "metadata": {},
   "outputs": [
    {
     "name": "stdout",
     "output_type": "stream",
     "text": [
      "+-----------+----------+----------+-------+---------+-----------------+\n",
      "|customer_id|first_name|address_id|city_id|     city|ClientesPorCidade|\n",
      "+-----------+----------+----------+-------+---------+-----------------+\n",
      "|          1|      MARY|         5|      5|    Adana|                1|\n",
      "|         10|   DOROTHY|        14|     14|al-Manama|                1|\n",
      "|        100|     ROBIN|       104|    104|   Cavite|                1|\n",
      "|        101|     PEGGY|       105|    105|  Cayenne|                1|\n",
      "|        102|   CRYSTAL|       106|    106|   Celaya|                1|\n",
      "+-----------+----------+----------+-------+---------+-----------------+\n",
      "\n"
     ]
    }
   ],
   "source": [
    "spark.sql(\"\"\"\n",
    "\n",
    "select \n",
    "    tbl_customer.customer_id , \n",
    "    tbl_customer.first_name,  \n",
    "    tbl_endereco.address_id ,  \n",
    "    tbl_city.city_id, \n",
    "    tbl_city.city, \n",
    "    count(*) as ClientesPorCidade\n",
    "from \n",
    "    tbl_customer, \n",
    "    tbl_endereco, \n",
    "    tbl_city  \n",
    "where \n",
    "    tbl_customer.address_id = tbl_endereco.address_id and tbl_endereco.address_id = tbl_city.city_id\n",
    "    \n",
    "group by \n",
    "    tbl_customer.customer_id, \n",
    "    tbl_customer.first_name, \n",
    "    tbl_endereco.address_id,  \n",
    "    tbl_city.city_id, \n",
    "    tbl_city.city\n",
    "    \n",
    "order by tbl_customer.customer_id asc\n",
    "limit 5\n",
    "\n",
    "\n",
    "\"\"\").show()"
   ]
  },
  {
   "cell_type": "code",
   "execution_count": null,
   "id": "e6db4672-22f2-4977-b26e-5c729b269a54",
   "metadata": {},
   "outputs": [],
   "source": []
  }
 ],
 "metadata": {
  "kernelspec": {
   "display_name": "Python 3 (ipykernel)",
   "language": "python",
   "name": "python3"
  },
  "language_info": {
   "codemirror_mode": {
    "name": "ipython",
    "version": 3
   },
   "file_extension": ".py",
   "mimetype": "text/x-python",
   "name": "python",
   "nbconvert_exporter": "python",
   "pygments_lexer": "ipython3",
   "version": "3.9.10"
  }
 },
 "nbformat": 4,
 "nbformat_minor": 5
}
